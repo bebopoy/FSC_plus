{
 "cells": [
  {
   "cell_type": "code",
   "execution_count": 3,
   "id": "5ae83195",
   "metadata": {},
   "outputs": [
    {
     "name": "stderr",
     "output_type": "stream",
     "text": [
      "C:\\Users\\Nxt03\\AppData\\Local\\Temp\\ipykernel_21648\\154496038.py:59: UserWarning: Glyph 31867 (\\N{CJK UNIFIED IDEOGRAPH-7C7B}) missing from current font.\n",
      "  plt.tight_layout()\n",
      "C:\\Users\\Nxt03\\AppData\\Local\\Temp\\ipykernel_21648\\154496038.py:59: UserWarning: Glyph 21035 (\\N{CJK UNIFIED IDEOGRAPH-522B}) missing from current font.\n",
      "  plt.tight_layout()\n",
      "C:\\Users\\Nxt03\\AppData\\Local\\Temp\\ipykernel_21648\\154496038.py:63: UserWarning: Glyph 31867 (\\N{CJK UNIFIED IDEOGRAPH-7C7B}) missing from current font.\n",
      "  plt.savefig(output_file, dpi=300, bbox_inches='tight')\n",
      "C:\\Users\\Nxt03\\AppData\\Local\\Temp\\ipykernel_21648\\154496038.py:63: UserWarning: Glyph 21035 (\\N{CJK UNIFIED IDEOGRAPH-522B}) missing from current font.\n",
      "  plt.savefig(output_file, dpi=300, bbox_inches='tight')\n"
     ]
    },
    {
     "name": "stdout",
     "output_type": "stream",
     "text": [
      "对比图已保存为 模型性能对比图_v4.png\n"
     ]
    }
   ],
   "source": [
    "import pandas as pd\n",
    "import matplotlib.pyplot as plt\n",
    "\n",
    "# 读取CSV文件\n",
    "df = pd.read_csv('模型测试数据.csv')\n",
    "\n",
    "# 过滤掉平均值行\n",
    "df = df[df['类别'] != 'Average']\n",
    "\n",
    "# 设置新的专业配色方案 - 使用Nature期刊常用的蓝绿橙配色\n",
    "colors = ['#4E79A7', '#59A14F', '#F28E2B']  # 蓝色、绿色、橙色\n",
    "\n",
    "# 设置模型顺序\n",
    "model_order = ['2025-5-10_RAW_4epoch', '2025-5-11_IMP_4epoch', '2025-5-11_BEST_Model']\n",
    "\n",
    "# 创建3个子图\n",
    "fig, axes = plt.subplots(3, 1, figsize=(12, 18))\n",
    "\n",
    "# 绘制L1_CD对比图\n",
    "df_pivot_l1 = df.pivot(index='类别', columns='模型名称', values='L1_CD(1e-3)')[model_order]\n",
    "ax = df_pivot_l1.plot(kind='bar', ax=axes[0], rot=0, color=colors)\n",
    "axes[0].set_title('L1 Chamfer Distance (×10⁻³)')\n",
    "axes[0].set_ylabel('L1_CD (×10⁻³)')\n",
    "axes[0].legend(['RAW FSC', 'IMP FSC++', 'BEST FSC'], title='Model')  # 修改图例显示\n",
    "\n",
    "# 在柱形图上添加数字标签\n",
    "for p in ax.patches:\n",
    "    ax.annotate(f\"{p.get_height():.2f}\",\n",
    "                (p.get_x() + p.get_width() / 2., p.get_height()),\n",
    "                ha='center', va='center', xytext=(0, 5), textcoords='offset points')\n",
    "\n",
    "# 绘制L2_CD对比图\n",
    "df_pivot_l2 = df.pivot(index='类别', columns='模型名称', values='L2_CD(1e-4)')[model_order]\n",
    "ax = df_pivot_l2.plot(kind='bar', ax=axes[1], rot=0, color=colors)\n",
    "axes[1].set_title('L2 Chamfer Distance (×10⁻⁴)')\n",
    "axes[1].set_ylabel('L2_CD (×10⁻⁴)')\n",
    "axes[1].legend(['RAW FSC', 'IMP FSC++', 'BEST FSC'], title='Model')\n",
    "\n",
    "# 在柱形图上添加数字标签\n",
    "for p in ax.patches:\n",
    "    ax.annotate(f\"{p.get_height():.2f}\",\n",
    "                (p.get_x() + p.get_width() / 2., p.get_height()),\n",
    "                ha='center', va='center', xytext=(0, 5), textcoords='offset points')\n",
    "\n",
    "# 绘制FScore对比图\n",
    "df_pivot_fscore = df.pivot(index='类别', columns='模型名称', values='FScore-0.01(%)')[model_order]\n",
    "ax = df_pivot_fscore.plot(kind='bar', ax=axes[2], rot=0, color=colors)\n",
    "axes[2].set_title('FScore@0.01')\n",
    "axes[2].set_ylabel('FScore (%)')\n",
    "axes[2].legend(['RAW FSC', 'IMP FSC++', 'BEST FSC'], title='Model')\n",
    "\n",
    "# 在柱形图上添加数字标签\n",
    "for p in ax.patches:\n",
    "    ax.annotate(f\"{p.get_height():.2f}\",\n",
    "                (p.get_x() + p.get_width() / 2., p.get_height()),\n",
    "                ha='center', va='center', xytext=(0, 5), textcoords='offset points')\n",
    "\n",
    "# 调整布局\n",
    "plt.tight_layout()\n",
    "\n",
    "# 保存图片\n",
    "output_file = '模型性能对比图_v4.png'\n",
    "plt.savefig(output_file, dpi=300, bbox_inches='tight')\n",
    "plt.close()\n",
    "\n",
    "print(f\"对比图已保存为 {output_file}\")"
   ]
  }
 ],
 "metadata": {
  "kernelspec": {
   "display_name": "base",
   "language": "python",
   "name": "python3"
  },
  "language_info": {
   "codemirror_mode": {
    "name": "ipython",
    "version": 3
   },
   "file_extension": ".py",
   "mimetype": "text/x-python",
   "name": "python",
   "nbconvert_exporter": "python",
   "pygments_lexer": "ipython3",
   "version": "3.11.7"
  }
 },
 "nbformat": 4,
 "nbformat_minor": 5
}
